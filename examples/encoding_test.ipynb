{
 "cells": [
  {
   "cell_type": "code",
   "execution_count": 2,
   "metadata": {},
   "outputs": [],
   "source": [
    "from pathlib import Path\n",
    "\n",
    "import imagededup"
   ]
  },
  {
   "cell_type": "code",
   "execution_count": 3,
   "metadata": {},
   "outputs": [],
   "source": [
    "single_image_path = Path('../tests/data/mixed_images/ukbench00120.jpg')\n",
    "image_dir = Path('../tests/data/mixed_images')"
   ]
  },
  {
   "cell_type": "markdown",
   "metadata": {},
   "source": [
    "# Hashing"
   ]
  },
  {
   "cell_type": "markdown",
   "metadata": {},
   "source": [
    "#### Hash of a single image using Perceptual hashing"
   ]
  },
  {
   "cell_type": "code",
   "execution_count": 4,
   "metadata": {},
   "outputs": [],
   "source": [
    "from imagededup.methods import PHash"
   ]
  },
  {
   "cell_type": "code",
   "execution_count": 5,
   "metadata": {},
   "outputs": [],
   "source": [
    "phasher = PHash()\n",
    "phash_string = phasher.encode_image(image_file = single_image_path)"
   ]
  },
  {
   "cell_type": "code",
   "execution_count": 6,
   "metadata": {},
   "outputs": [
    {
     "data": {
      "text/plain": [
       "'9fee256239984d71'"
      ]
     },
     "execution_count": 6,
     "metadata": {},
     "output_type": "execute_result"
    }
   ],
   "source": [
    "phash_string"
   ]
  },
  {
   "cell_type": "markdown",
   "metadata": {},
   "source": [
    "#### Hash of a single image using average hashing"
   ]
  },
  {
   "cell_type": "code",
   "execution_count": 7,
   "metadata": {},
   "outputs": [
    {
     "data": {
      "text/plain": [
       "'81b83c3c3c3c1e0a'"
      ]
     },
     "execution_count": 7,
     "metadata": {},
     "output_type": "execute_result"
    }
   ],
   "source": [
    "from imagededup.methods import AHash\n",
    "ahasher = AHash()\n",
    "ahash_string = ahasher.encode_image(single_image_path)\n",
    "ahash_string"
   ]
  },
  {
   "cell_type": "markdown",
   "metadata": {},
   "source": [
    "#### Hash all images in a directory using Difference hashing"
   ]
  },
  {
   "cell_type": "code",
   "execution_count": 8,
   "metadata": {},
   "outputs": [
    {
     "name": "stderr",
     "output_type": "stream",
     "text": [
      "2020-11-10 20:58:30,187: INFO Start: Calculating hashes...\n",
      "  0%|          | 0/6 [00:00<?, ?it/s]2020-11-10 20:58:30,228: WARNING Invalid image file /home/ubuntu/imagededup/examples/../tests/data/mixed_images/ukbench09268_corrupt.jpg:\n",
      "cannot identify image file '/home/ubuntu/imagededup/tests/data/mixed_images/ukbench09268_corrupt.jpg'\n",
      "100%|██████████| 6/6 [00:00<00:00, 99.09it/s]\n",
      "2020-11-10 20:58:30,273: INFO End: Calculating hashes!\n"
     ]
    }
   ],
   "source": [
    "from imagededup.methods import DHash\n",
    "\n",
    "dhasher = DHash()\n",
    "encodings = dhasher.encode_images(image_dir)"
   ]
  },
  {
   "cell_type": "code",
   "execution_count": 9,
   "metadata": {},
   "outputs": [
    {
     "data": {
      "text/plain": [
       "{'ukbench00120_resize.jpg': '2b69707551f1b87a',\n",
       " 'ukbench09268.jpg': 'ac9c72f8e1c2c448',\n",
       " 'ukbench00120.jpg': '2b69707551f1b87a',\n",
       " 'ukbench00120_rotation.jpg': '64d2d1717568acd0',\n",
       " 'ukbench00120_hflip.jpg': '2b29f1517570e2a1'}"
      ]
     },
     "execution_count": 9,
     "metadata": {},
     "output_type": "execute_result"
    }
   ],
   "source": [
    "encodings"
   ]
  },
  {
   "cell_type": "markdown",
   "metadata": {},
   "source": [
    "# CNN"
   ]
  },
  {
   "cell_type": "code",
   "execution_count": 10,
   "metadata": {},
   "outputs": [],
   "source": [
    "from imagededup.methods import CNN"
   ]
  },
  {
   "cell_type": "markdown",
   "metadata": {},
   "source": [
    "#### Single image CNN encoding"
   ]
  },
  {
   "cell_type": "code",
   "execution_count": 11,
   "metadata": {},
   "outputs": [
    {
     "name": "stderr",
     "output_type": "stream",
     "text": [
      "WARNING:root:Limited tf.compat.v2.summary API due to missing TensorBoard installation.\n",
      "WARNING:root:Limited tf.compat.v2.summary API due to missing TensorBoard installation.\n",
      "WARNING:root:Limited tf.compat.v2.summary API due to missing TensorBoard installation.\n",
      "WARNING:root:Limited tf.summary API due to missing TensorBoard installation.\n",
      "2020-11-10 20:58:32,644: INFO Initialized: MobileNet pretrained on ImageNet dataset sliced at last conv layer and added GlobalAveragePooling\n",
      "INFO:imagededup.methods.cnn:Initialized: MobileNet pretrained on ImageNet dataset sliced at last conv layer and added GlobalAveragePooling\n"
     ]
    }
   ],
   "source": [
    "cnn_encoder = CNN()\n",
    "cnn_encoding = cnn_encoder.encode_image(single_image_path)"
   ]
  },
  {
   "cell_type": "code",
   "execution_count": 12,
   "metadata": {},
   "outputs": [
    {
     "data": {
      "text/plain": [
       "array([[1.5847818 , 0.17494601, 0.        , ..., 1.0568988 , 0.00498365,\n",
       "        0.6473199 ]], dtype=float32)"
      ]
     },
     "execution_count": 12,
     "metadata": {},
     "output_type": "execute_result"
    }
   ],
   "source": [
    "cnn_encoding"
   ]
  },
  {
   "cell_type": "markdown",
   "metadata": {},
   "source": [
    "#### Encodings for all images in a directory"
   ]
  },
  {
   "cell_type": "code",
   "execution_count": 13,
   "metadata": {},
   "outputs": [
    {
     "name": "stderr",
     "output_type": "stream",
     "text": [
      "2020-11-10 20:58:33,909: INFO Initialized: MobileNet pretrained on ImageNet dataset sliced at last conv layer and added GlobalAveragePooling\n",
      "INFO:imagededup.methods.cnn:Initialized: MobileNet pretrained on ImageNet dataset sliced at last conv layer and added GlobalAveragePooling\n",
      "2020-11-10 20:58:33,914: INFO Start: Image encoding generation\n",
      "INFO:imagededup.methods.cnn:Start: Image encoding generation\n",
      "/home/ubuntu/venvs/my_env/lib/python3.8/site-packages/tensorflow-2.4.0rc1-py3.8-linux-x86_64.egg/tensorflow/python/keras/engine/training.py:1905: UserWarning: `Model.predict_generator` is deprecated and will be removed in a future version. Please use `Model.predict`, which supports generators.\n",
      "  warnings.warn('`Model.predict_generator` is deprecated and '\n",
      "2020-11-10 20:58:34,001: WARNING Invalid image file /home/ubuntu/imagededup/examples/../tests/data/mixed_images/ukbench09268_corrupt.jpg:\n",
      "cannot identify image file '/home/ubuntu/imagededup/tests/data/mixed_images/ukbench09268_corrupt.jpg'\n",
      "WARNING:imagededup.utils.image_utils:Invalid image file /home/ubuntu/imagededup/examples/../tests/data/mixed_images/ukbench09268_corrupt.jpg:\n",
      "cannot identify image file '/home/ubuntu/imagededup/tests/data/mixed_images/ukbench09268_corrupt.jpg'\n",
      "2020-11-10 20:58:34,450: WARNING Invalid image file /home/ubuntu/imagededup/examples/../tests/data/mixed_images/ukbench09268_corrupt.jpg:\n",
      "cannot identify image file '/home/ubuntu/imagededup/tests/data/mixed_images/ukbench09268_corrupt.jpg'\n",
      "WARNING:imagededup.utils.image_utils:Invalid image file /home/ubuntu/imagededup/examples/../tests/data/mixed_images/ukbench09268_corrupt.jpg:\n",
      "cannot identify image file '/home/ubuntu/imagededup/tests/data/mixed_images/ukbench09268_corrupt.jpg'\n"
     ]
    },
    {
     "name": "stdout",
     "output_type": "stream",
     "text": [
      "1/1 [==============================] - 1s 688ms/step\n"
     ]
    },
    {
     "name": "stderr",
     "output_type": "stream",
     "text": [
      "2020-11-10 20:58:34,728: INFO End: Image encoding generation\n",
      "INFO:imagededup.methods.cnn:End: Image encoding generation\n"
     ]
    }
   ],
   "source": [
    "cnn_encoder = CNN()\n",
    "cnn_encodings = cnn_encoder.encode_images(image_dir)"
   ]
  },
  {
   "cell_type": "code",
   "execution_count": 14,
   "metadata": {},
   "outputs": [
    {
     "data": {
      "text/plain": [
       "{'ukbench00120.jpg': array([1.5847808 , 0.17494643, 0.        , ..., 1.0568982 , 0.00498416,\n",
       "        0.64732   ], dtype=float32),\n",
       " 'ukbench00120_hflip.jpg': array([1.8885478 , 0.2520809 , 0.06678706, ..., 0.8927823 , 0.02286643,\n",
       "        0.9184034 ], dtype=float32),\n",
       " 'ukbench00120_resize.jpg': array([1.7072284 , 0.19885889, 0.012985  , ..., 1.4586854 , 0.00776877,\n",
       "        0.83636403], dtype=float32),\n",
       " 'ukbench00120_rotation.jpg': array([0.51429665, 0.20379898, 0.        , ..., 0.02883962, 0.00844271,\n",
       "        0.95597816], dtype=float32),\n",
       " 'ukbench09268.jpg': array([0.42904407, 0.24964109, 0.5002283 , ..., 0.8208338 , 0.1661372 ,\n",
       "        0.6475961 ], dtype=float32)}"
      ]
     },
     "execution_count": 14,
     "metadata": {},
     "output_type": "execute_result"
    }
   ],
   "source": [
    "cnn_encodings"
   ]
  }
 ],
 "metadata": {
  "kernelspec": {
   "display_name": "Python 3",
   "language": "python",
   "name": "python3"
  },
  "language_info": {
   "codemirror_mode": {
    "name": "ipython",
    "version": 3
   },
   "file_extension": ".py",
   "mimetype": "text/x-python",
   "name": "python",
   "nbconvert_exporter": "python",
   "pygments_lexer": "ipython3",
   "version": "3.8.5"
  }
 },
 "nbformat": 4,
 "nbformat_minor": 2
}
